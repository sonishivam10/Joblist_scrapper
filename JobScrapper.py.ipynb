{
 "cells": [
  {
   "cell_type": "code",
   "execution_count": 1,
   "metadata": {},
   "outputs": [],
   "source": [
    "from bs4 import BeautifulSoup as bs\n",
    "import requests\n",
    "from selenium import webdriver\n",
    "import time \n",
    "import pandas as pd "
   ]
  },
  {
   "cell_type": "code",
   "execution_count": 2,
   "metadata": {},
   "outputs": [],
   "source": [
    "url='https://techolution.app.param.ai/jobs/'\n",
    "driver = webdriver.Chrome()\n",
    "driver.get(url)\n",
    "time.sleep(10)  \n",
    "soup = bs(driver.page_source, 'html.parser')\n",
    "\n",
    "driver.quit()\n"
   ]
  },
  {
   "cell_type": "code",
   "execution_count": 3,
   "metadata": {},
   "outputs": [],
   "source": [
    "def jobt(soup):\n",
    "    jobs = []\n",
    "    for job in soup.find_all('h3', {'class': 'job_name text-ellipsis'}):\n",
    "        name=job.text\n",
    "        jobs.append(name)\n",
    "    return(jobs)\n",
    "jobs=jobt(soup)"
   ]
  },
  {
   "cell_type": "code",
   "execution_count": 4,
   "metadata": {},
   "outputs": [],
   "source": [
    "def jobc(soup):\n",
    "    jtype = []\n",
    "    jloc=[]\n",
    "    jexp=[]\n",
    "    for span in soup.find_all('p')[:-1]:\n",
    "        c=list(span.children)\n",
    "        jtype.append(c[0].text.split()[0])\n",
    "        jloc.append(\" \".join(c[2].text.split()[:-1]))\n",
    "        jexp.append(\" \".join(c[4].text.split()))\n",
    "    return jtype,jloc,jexp\n",
    "jtype,jloc,jexp=jobc(soup)\n"
   ]
  },
  {
   "cell_type": "code",
   "execution_count": 5,
   "metadata": {},
   "outputs": [],
   "source": [
    "def jobd(soup):\n",
    "    jobdate = []\n",
    "    for job in soup.find_all('span', {'class': 'date_posted'}):\n",
    "        name=job.text\n",
    "        jobdate.append(name)\n",
    "    return(jobdate)\n",
    "jobdate=jobd(soup)"
   ]
  },
  {
   "cell_type": "code",
   "execution_count": 6,
   "metadata": {},
   "outputs": [],
   "source": [
    "columns = [\"job_title\", \"job_type\", \"location\", \"Experience\", \"Posted\"]\n",
    "sample_df = pd.DataFrame(columns = columns)"
   ]
  },
  {
   "cell_type": "code",
   "execution_count": 7,
   "metadata": {},
   "outputs": [],
   "source": [
    "df = pd.DataFrame(list(zip(jobs, jtype, jloc, jexp, jobdate)), \n",
    "               columns =columns) "
   ]
  },
  {
   "cell_type": "code",
   "execution_count": 8,
   "metadata": {},
   "outputs": [],
   "source": [
    "df=pd.DataFrame(df.values[::-1], df.index, df.columns)\n",
    "\n",
    "\n"
   ]
  },
  {
   "cell_type": "code",
   "execution_count": 9,
   "metadata": {},
   "outputs": [],
   "source": [
    "df.to_csv(\"technolution.csv\", encoding='utf-8')"
   ]
  }
 ],
 "metadata": {
  "kernelspec": {
   "display_name": "Python 3",
   "language": "python",
   "name": "python3"
  },
  "language_info": {
   "codemirror_mode": {
    "name": "ipython",
    "version": 3
   },
   "file_extension": ".py",
   "mimetype": "text/x-python",
   "name": "python",
   "nbconvert_exporter": "python",
   "pygments_lexer": "ipython3",
   "version": "3.7.0"
  }
 },
 "nbformat": 4,
 "nbformat_minor": 2
}
